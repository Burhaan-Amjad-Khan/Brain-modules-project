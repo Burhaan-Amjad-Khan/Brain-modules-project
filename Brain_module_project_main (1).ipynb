{
  "nbformat": 4,
  "nbformat_minor": 0,
  "metadata": {
    "colab": {
      "provenance": [],
      "gpuType": "T4"
    },
    "kernelspec": {
      "name": "python3",
      "display_name": "Python 3"
    },
    "language_info": {
      "name": "python"
    },
    "accelerator": "GPU"
  },
  "cells": [
    {
      "cell_type": "code",
      "execution_count": 1,
      "metadata": {
        "colab": {
          "base_uri": "https://localhost:8080/"
        },
        "id": "B80uu6sI7QxK",
        "outputId": "b149d9da-1ded-4566-a0b3-df0bc50536f0"
      },
      "outputs": [
        {
          "output_type": "stream",
          "name": "stdout",
          "text": [
            "ls: cannot access '/content/brain_dataset': No such file or directory\n"
          ]
        }
      ],
      "source": [
        "!unzip -q \"/content/drive/MyDrive/SurgeryDatasets/brain-dataset.zip\" -d /content/\n",
        "!ls /content/brain_dataset\n"
      ]
    },
    {
      "cell_type": "code",
      "source": [
        "# ===============================\n",
        "# 🚀 Imports\n",
        "# ===============================\n",
        "import os, cv2, glob, numpy as np\n",
        "import matplotlib.pyplot as plt\n",
        "from tqdm import tqdm\n",
        "import torch\n",
        "from torch.utils.data import Dataset, DataLoader, random_split\n",
        "import torch.nn as nn\n",
        "import torch.nn.functional as F\n",
        "\n",
        "# ===============================\n",
        "# 🚀 Helper to load NIfTI\n",
        "# ===============================\n",
        "import nibabel as nib\n",
        "def load_nii(path):\n",
        "    img = nib.load(path)\n",
        "    data = img.get_fdata()\n",
        "    return np.transpose(data, (1,0,2))  # make orientation consistent"
      ],
      "metadata": {
        "id": "_pSfn42S7Wbv"
      },
      "execution_count": 1,
      "outputs": []
    },
    {
      "cell_type": "code",
      "source": [
        "# ===============================\n",
        "# 🚀 Prepare slices\n",
        "# ===============================\n",
        "def extract_slices(image_dir):\n",
        "    imgs, masks = [], []\n",
        "    for case in tqdm(os.listdir(image_dir), desc=f\"Extracting slices from {image_dir}\"):\n",
        "        case_path = os.path.join(image_dir, case)\n",
        "        t1_file = next((f for f in os.listdir(case_path) if \"_t1.nii\" in f), None)\n",
        "        seg_file = next((f for f in os.listdir(case_path) if \"_seg.nii\" in f), None)\n",
        "\n",
        "        if t1_file is None or seg_file is None:\n",
        "            print(f\"Skipping case {case} due to missing T1 or segmentation file.\")\n",
        "            continue\n",
        "\n",
        "        img = load_nii(os.path.join(case_path, t1_file))\n",
        "        mask = load_nii(os.path.join(case_path, seg_file))\n",
        "        img = (img - np.min(img)) / (np.max(img) - np.min(img))\n",
        "\n",
        "        for i in range(img.shape[2]):\n",
        "            slice_img = img[:,:,i]\n",
        "            slice_mask = (mask[:,:,i] > 0).astype(np.float32)\n",
        "            if np.sum(slice_mask) > 0:\n",
        "                imgs.append(slice_img)\n",
        "                masks.append(slice_mask)\n",
        "    return imgs, masks\n",
        "\n",
        "train_imgs, train_masks = extract_slices(\"/content/BraTS2020_TrainingData/MICCAI_BraTS2020_TrainingData\")\n",
        "test_imgs, test_masks = extract_slices(\"/content/BraTS2020_ValidationData/MICCAI_BraTS2020_ValidationData\")\n",
        "\n",
        "print(f\"✅ Total slices: train={len(train_imgs)}, test={len(test_masks)}\")\n",
        "print(f\"⚡ Successfully loaded {len(imgs)} slices after skipping {skipped_cases} incomplete cases.\")\n"
      ],
      "metadata": {
        "colab": {
          "base_uri": "https://localhost:8080/"
        },
        "id": "ycIvK9I37Wex",
        "outputId": "40abd609-c393-41c8-a047-650b70f3b01b"
      },
      "execution_count": null,
      "outputs": [
        {
          "output_type": "stream",
          "name": "stderr",
          "text": [
            "Extracting slices from /content/BraTS2020_TrainingData/MICCAI_BraTS2020_TrainingData:  35%|███▌      | 130/371 [00:33<01:45,  2.28it/s]"
          ]
        }
      ]
    },
    {
      "cell_type": "code",
      "source": [
        "\n",
        "# ===============================\n",
        "# 🚀 Dataset\n",
        "# ===============================\n",
        "class BrainSliceDataset(Dataset):\n",
        "    def __init__(self, imgs, masks):\n",
        "        self.imgs = imgs\n",
        "        self.masks = masks\n",
        "\n",
        "    def __len__(self):\n",
        "        return len(self.imgs)\n",
        "\n",
        "    def __getitem__(self, idx):\n",
        "        img = cv2.resize(self.imgs[idx], (256,256))\n",
        "        mask = cv2.resize(self.masks[idx], (256,256))\n",
        "\n",
        "        img = np.expand_dims(img, axis=0).astype(np.float32)\n",
        "        mask = np.expand_dims(mask, axis=0).astype(np.float32)\n",
        "        return torch.tensor(img), torch.tensor(mask)"
      ],
      "metadata": {
        "id": "So4LFzof7Whr"
      },
      "execution_count": null,
      "outputs": []
    },
    {
      "cell_type": "code",
      "source": [
        "# ===============================\n",
        "# 🚀 DataLoader\n",
        "# ===============================\n",
        "max_slices = 8000\n",
        "dataset = BrainSliceDataset(train_imgs[:max_slices], train_masks[:max_slices])\n",
        "train_size = int(0.9 * len(dataset))\n",
        "val_size = len(dataset) - train_size\n",
        "train_ds, val_ds = random_split(dataset, [train_size, val_size])\n",
        "\n",
        "train_loader = DataLoader(train_ds, batch_size=16, shuffle=True)\n",
        "val_loader = DataLoader(val_ds, batch_size=16, shuffle=False)\n",
        "test_dataset = BrainSliceDataset(test_imgs, test_masks)\n",
        "test_loader = DataLoader(test_dataset, batch_size=16, shuffle=False)"
      ],
      "metadata": {
        "id": "_WiWTUim7WkM"
      },
      "execution_count": null,
      "outputs": []
    },
    {
      "cell_type": "code",
      "source": [
        "\n",
        "# 🚀 Model: Heavy ResUNet\n",
        "# ===============================\n",
        "class DoubleConv(nn.Module):\n",
        "    def __init__(self, in_c, out_c):\n",
        "        super(DoubleConv, self).__init__()\n",
        "        self.conv = nn.Sequential(\n",
        "            nn.Conv2d(in_c, out_c, 3, padding=1),\n",
        "            nn.BatchNorm2d(out_c),\n",
        "            nn.ReLU(inplace=True),\n",
        "            nn.Conv2d(out_c, out_c, 3, padding=1),\n",
        "            nn.BatchNorm2d(out_c),\n",
        "            nn.ReLU(inplace=True),\n",
        "        )\n",
        "    def forward(self, x):\n",
        "        return self.conv(x)\n",
        "\n",
        "class ResUNet(nn.Module):\n",
        "    def __init__(self):\n",
        "        super(ResUNet, self).__init__()\n",
        "        self.enc1 = DoubleConv(1,64)\n",
        "        self.enc2 = DoubleConv(64,128)\n",
        "        self.enc3 = DoubleConv(128,256)\n",
        "        self.enc4 = DoubleConv(256,512)\n",
        "\n",
        "        self.pool = nn.MaxPool2d(2)\n",
        "\n",
        "        self.bottleneck = DoubleConv(512,1024)\n",
        "\n",
        "        self.upconv4 = nn.ConvTranspose2d(1024,512,2,2)\n",
        "        self.dec4 = DoubleConv(1024,512)\n",
        "        self.upconv3 = nn.ConvTranspose2d(512,256,2,2)\n",
        "        self.dec3 = DoubleConv(512,256)\n",
        "        self.upconv2 = nn.ConvTranspose2d(256,128,2,2)\n",
        "        self.dec2 = DoubleConv(256,128)\n",
        "        self.upconv1 = nn.ConvTranspose2d(128,64,2,2)\n",
        "        self.dec1 = DoubleConv(128,64)\n",
        "\n",
        "        self.out = nn.Conv2d(64,1,1)\n",
        "\n",
        "    def forward(self,x):\n",
        "        e1=self.enc1(x)\n",
        "        e2=self.enc2(self.pool(e1))\n",
        "        e3=self.enc3(self.pool(e2))\n",
        "        e4=self.enc4(self.pool(e3))\n",
        "\n",
        "        b=self.bottleneck(self.pool(e4))\n",
        "\n",
        "        d4=self.upconv4(b)\n",
        "        d4=torch.cat([d4,e4],dim=1)\n",
        "        d4=self.dec4(d4)\n",
        "\n",
        "        d3=self.upconv3(d4)\n",
        "        d3=torch.cat([d3,e3],dim=1)\n",
        "        d3=self.dec3(d3)\n",
        "\n",
        "        d2=self.upconv2(d3)\n",
        "        d2=torch.cat([d2,e2],dim=1)\n",
        "        d2=self.dec2(d2)\n",
        "\n",
        "        d1=self.upconv1(d2)\n",
        "        d1=torch.cat([d1,e1],dim=1)\n",
        "        d1=self.dec1(d1)\n",
        "\n",
        "        return torch.sigmoid(self.out(d1))\n"
      ],
      "metadata": {
        "id": "-wEcKNhA7WnE"
      },
      "execution_count": null,
      "outputs": []
    },
    {
      "cell_type": "code",
      "source": [
        "\n",
        "# ===============================\n",
        "# 🚀 Training\n",
        "# ===============================\n",
        "device = torch.device(\"cuda\" if torch.cuda.is_available() else \"cpu\")\n",
        "model = ResUNet().to(device)\n",
        "optimizer = torch.optim.Adam(model.parameters(), lr=1e-4)\n",
        "\n",
        "def dice_loss(pred, target, smooth=1):\n",
        "    pred = pred.contiguous().view(-1)\n",
        "    target = target.contiguous().view(-1)\n",
        "    intersection = (pred * target).sum()\n",
        "    return 1 - ((2. * intersection + smooth) / (pred.sum() + target.sum() + smooth))\n",
        "\n",
        "train_losses, val_losses = [], []\n",
        "epochs=20\n",
        "for epoch in range(epochs):\n",
        "    model.train()\n",
        "    running_loss = 0\n",
        "    for img, mask in tqdm(train_loader, desc=f\"Epoch {epoch+1}\"):\n",
        "        img, mask = img.to(device), mask.to(device)\n",
        "        pred = model(img)\n",
        "        bce = F.binary_cross_entropy(pred, mask)\n",
        "        dloss = dice_loss(pred, mask)\n",
        "        loss = bce + dloss\n",
        "        optimizer.zero_grad(); loss.backward(); optimizer.step()\n",
        "        running_loss += loss.item()\n",
        "    avg_train = running_loss/len(train_loader)\n",
        "    train_losses.append(avg_train)\n",
        "\n",
        "    # Validation\n",
        "    model.eval()\n",
        "    val_loss = 0\n",
        "    with torch.no_grad():\n",
        "        for img, mask in val_loader:\n",
        "            img, mask = img.to(device), mask.to(device)\n",
        "            pred = model(img)\n",
        "            bce = F.binary_cross_entropy(pred, mask)\n",
        "            dloss = dice_loss(pred, mask)\n",
        "            val_loss += (bce + dloss).item()\n",
        "    avg_val = val_loss/len(val_loader)\n",
        "    val_losses.append(avg_val)\n",
        "    print(f\"📈 Epoch {epoch+1}: Train Loss={avg_train:.4f}, Val Loss={avg_val:.4f}\")"
      ],
      "metadata": {
        "id": "IZih2K597Wp2"
      },
      "execution_count": null,
      "outputs": []
    },
    {
      "cell_type": "code",
      "source": [
        "\n",
        "# ===============================\n",
        "# 🚀 Plotting losses\n",
        "# ===============================\n",
        "plt.plot(train_losses, label=\"Train Loss\")\n",
        "plt.plot(val_losses, label=\"Val Loss\")\n",
        "plt.legend(); plt.show()\n"
      ],
      "metadata": {
        "id": "WvoCvDxo7Wsg"
      },
      "execution_count": null,
      "outputs": []
    },
    {
      "cell_type": "code",
      "source": [
        "\n",
        "# 🚀 Test set evaluation\n",
        "# ===============================\n",
        "model.eval()\n",
        "test_loss, test_dice = 0, 0\n",
        "with torch.no_grad():\n",
        "    for img, mask in test_loader:\n",
        "        img, mask = img.to(device), mask.to(device)\n",
        "        pred = model(img)\n",
        "        bce = F.binary_cross_entropy(pred, mask)\n",
        "        dloss = dice_loss(pred, mask)\n",
        "        test_loss += (bce + dloss).item()\n",
        "        test_dice += (1 - dloss).item()\n",
        "avg_test_loss = test_loss/len(test_loader)\n",
        "avg_test_dice = test_dice/len(test_loader)\n",
        "print(f\"🚀 Test Loss: {avg_test_loss:.4f}, Test Dice: {avg_test_dice:.4f}\")"
      ],
      "metadata": {
        "id": "Orwi_DAx7WzI"
      },
      "execution_count": null,
      "outputs": []
    },
    {
      "cell_type": "code",
      "source": [
        "\n",
        "# ===============================\n",
        "# 🚀 Show predictions on test data\n",
        "# ===============================\n",
        "img, mask = next(iter(test_loader))\n",
        "img = img.to(device)\n",
        "with torch.no_grad():\n",
        "    pred = model(img).cpu()\n",
        "\n",
        "plt.figure(figsize=(15,5))\n",
        "for i in range(4):\n",
        "    plt.subplot(3,4,i+1); plt.imshow(img[i][0].cpu(), cmap='gray'); plt.title(\"Image\")\n",
        "    plt.subplot(3,4,i+5); plt.imshow(mask[i][0], cmap='gray'); plt.title(\"Mask\")\n",
        "    plt.subplot(3,4,i+9); plt.imshow(pred[i][0], cmap='gray'); plt.title(\"Pred\")\n",
        "plt.show()"
      ],
      "metadata": {
        "id": "iVW2_lVK724Z"
      },
      "execution_count": null,
      "outputs": []
    },
    {
      "cell_type": "code",
      "source": [
        "\n",
        "# ===============================\n",
        "# 🚀 Save the model\n",
        "# ===============================\n",
        "torch.save(model.state_dict(), \"/content/brain_model.pt\")\n",
        "print(\"✅ Saved model to /content/brain_model.pt\")\n"
      ],
      "metadata": {
        "id": "dQt7HNtO726_"
      },
      "execution_count": null,
      "outputs": []
    },
    {
      "cell_type": "code",
      "source": [],
      "metadata": {
        "id": "HI-wsvse72_K"
      },
      "execution_count": null,
      "outputs": []
    },
    {
      "cell_type": "code",
      "source": [],
      "metadata": {
        "id": "jTVEgYBe-olI"
      },
      "execution_count": null,
      "outputs": []
    },
    {
      "cell_type": "code",
      "source": [
        "# ============================\n",
        "# ✅ 1. SETUP\n",
        "# ============================\n",
        "import os\n",
        "import cv2\n",
        "import numpy as np\n",
        "import random\n",
        "from tqdm import tqdm\n",
        "import matplotlib.pyplot as plt\n",
        "\n",
        "import torch\n",
        "from torch.utils.data import Dataset, DataLoader, random_split\n",
        "import torch.nn as nn\n",
        "import torch.nn.functional as F\n",
        "\n",
        "device = torch.device(\"cuda\" if torch.cuda.is_available() else \"cpu\")\n",
        "print(\"📌 Device:\", device)\n",
        "\n",
        "# Check RAM\n",
        "!free -h"
      ],
      "metadata": {
        "colab": {
          "base_uri": "https://localhost:8080/"
        },
        "id": "n95WI9u_-on4",
        "outputId": "e373bd9d-5ff4-45af-9cc0-e23476b61666"
      },
      "execution_count": 2,
      "outputs": [
        {
          "output_type": "stream",
          "name": "stdout",
          "text": [
            "📌 Device: cuda\n",
            "               total        used        free      shared  buff/cache   available\n",
            "Mem:            12Gi       1.3Gi       9.8Gi       2.0Mi       1.5Gi        11Gi\n",
            "Swap:             0B          0B          0B\n"
          ]
        }
      ]
    },
    {
      "cell_type": "code",
      "source": [
        "\n",
        "# ============================\n",
        "# ✅ 2. PATHS & PARAMETERS\n",
        "# ============================\n",
        "DATA_DIR = \"/content/BraTS2020_TrainingData/MICCAI_BraTS2020_TrainingData\"  # your unzipped path\n",
        "IMG_SIZE = 128\n",
        "BATCH_SIZE = 16\n",
        "EPOCHS = 20\n",
        "NUM_SLICES = 8000  # cap on slices\n"
      ],
      "metadata": {
        "id": "4ihTE0Ia-oq1"
      },
      "execution_count": 3,
      "outputs": []
    },
    {
      "cell_type": "code",
      "source": [
        "# ============================\n",
        "# ✅ 3. COLLECT FILES\n",
        "# ============================\n",
        "\n",
        "import nibabel as nib\n",
        "\n",
        "def load_nii(path):\n",
        "    img = nib.load(path)\n",
        "    data = img.get_fdata()\n",
        "    return np.transpose(data, (1,0,2))  # make orientation consistent\n",
        "\n",
        "def extract_slices(image_dir, max_slices=None):\n",
        "    imgs, masks = [], []\n",
        "    skipped_cases = 0\n",
        "    for case in tqdm(os.listdir(image_dir), desc=f\"Extracting slices from {image_dir}\"):\n",
        "        if max_slices is not None and len(imgs) >= max_slices:\n",
        "            break  # Stop extracting if we've reached the limit\n",
        "\n",
        "        case_path = os.path.join(image_dir, case)\n",
        "        if not os.path.isdir(case_path):\n",
        "            continue\n",
        "\n",
        "        t1_file = None\n",
        "        seg_file = None\n",
        "        for f in os.listdir(case_path):\n",
        "            if \"_t1.nii\" in f:\n",
        "                t1_file = f\n",
        "            elif \"_seg.nii\" in f:\n",
        "                seg_file = f\n",
        "\n",
        "        if t1_file is None or seg_file is None:\n",
        "            print(f\"Skipping case {case} due to missing T1 or segmentation file.\")\n",
        "            skipped_cases += 1\n",
        "            continue\n",
        "\n",
        "        try:\n",
        "            img = load_nii(os.path.join(case_path, t1_file))\n",
        "            mask = load_nii(os.path.join(case_path, seg_file))\n",
        "            img = (img - np.min(img)) / (np.max(img) - np.min(img))\n",
        "\n",
        "            for i in range(img.shape[2]):\n",
        "                if max_slices is not None and len(imgs) >= max_slices:\n",
        "                    break # Stop adding slices if we've reached the limit\n",
        "\n",
        "                slice_img = img[:,:,i]\n",
        "                slice_mask = (mask[:,:,i] > 0).astype(np.float32)\n",
        "                if np.sum(slice_mask) > 0:\n",
        "                    imgs.append(slice_img)\n",
        "                    masks.append(slice_mask)\n",
        "        except Exception as e:\n",
        "            print(f\"Error processing case {case}: {e}\")\n",
        "            skipped_cases += 1\n",
        "            continue\n",
        "\n",
        "    return imgs, masks, skipped_cases\n",
        "\n",
        "train_imgs, train_masks, skipped_train = extract_slices(DATA_DIR, max_slices=NUM_SLICES)\n",
        "# Assuming validation data is in a similar structure\n",
        "VAL_DATA_DIR = \"/content/BraTS2020_ValidationData/MICCAI_BraTS2020_ValidationData\"\n",
        "val_imgs, val_masks, skipped_val = extract_slices(VAL_DATA_DIR, max_slices=int(NUM_SLICES * 0.2)) # Limit validation set as well\n",
        "\n",
        "\n",
        "print(f\"✅ Total slices: train={len(train_imgs)}, val={len(val_masks)}\")\n",
        "print(f\"⚡ Successfully loaded {len(train_imgs) + len(val_imgs)} slices after skipping {skipped_train + skipped_val} incomplete cases.\")"
      ],
      "metadata": {
        "colab": {
          "base_uri": "https://localhost:8080/"
        },
        "id": "vtUgFB5y-ots",
        "outputId": "f35d33c1-0f0b-45f9-8220-c41b4d25181e"
      },
      "execution_count": 4,
      "outputs": [
        {
          "output_type": "stream",
          "name": "stderr",
          "text": [
            "Extracting slices from /content/BraTS2020_TrainingData/MICCAI_BraTS2020_TrainingData:  33%|███▎      | 122/371 [00:31<01:04,  3.89it/s]\n",
            "Extracting slices from /content/BraTS2020_ValidationData/MICCAI_BraTS2020_ValidationData: 100%|██████████| 127/127 [00:00<00:00, 1915.98it/s]"
          ]
        },
        {
          "output_type": "stream",
          "name": "stdout",
          "text": [
            "Skipping case BraTS20_Validation_050 due to missing T1 or segmentation file.\n",
            "Skipping case BraTS20_Validation_083 due to missing T1 or segmentation file.\n",
            "Skipping case BraTS20_Validation_067 due to missing T1 or segmentation file.\n",
            "Skipping case BraTS20_Validation_057 due to missing T1 or segmentation file.\n",
            "Skipping case BraTS20_Validation_107 due to missing T1 or segmentation file.\n",
            "Skipping case BraTS20_Validation_072 due to missing T1 or segmentation file.\n",
            "Skipping case BraTS20_Validation_114 due to missing T1 or segmentation file.\n",
            "Skipping case BraTS20_Validation_048 due to missing T1 or segmentation file.\n",
            "Skipping case BraTS20_Validation_123 due to missing T1 or segmentation file.\n",
            "Skipping case BraTS20_Validation_040 due to missing T1 or segmentation file.\n",
            "Skipping case BraTS20_Validation_066 due to missing T1 or segmentation file.\n",
            "Skipping case BraTS20_Validation_104 due to missing T1 or segmentation file.\n",
            "Skipping case BraTS20_Validation_077 due to missing T1 or segmentation file.\n",
            "Skipping case BraTS20_Validation_102 due to missing T1 or segmentation file.\n",
            "Skipping case BraTS20_Validation_003 due to missing T1 or segmentation file.\n",
            "Skipping case BraTS20_Validation_053 due to missing T1 or segmentation file.\n",
            "Skipping case BraTS20_Validation_056 due to missing T1 or segmentation file.\n",
            "Skipping case BraTS20_Validation_047 due to missing T1 or segmentation file.\n",
            "Skipping case BraTS20_Validation_036 due to missing T1 or segmentation file.\n",
            "Skipping case BraTS20_Validation_011 due to missing T1 or segmentation file.\n",
            "Skipping case BraTS20_Validation_073 due to missing T1 or segmentation file.\n",
            "Skipping case BraTS20_Validation_059 due to missing T1 or segmentation file.\n",
            "Skipping case BraTS20_Validation_105 due to missing T1 or segmentation file.\n",
            "Skipping case BraTS20_Validation_086 due to missing T1 or segmentation file.\n",
            "Skipping case BraTS20_Validation_110 due to missing T1 or segmentation file.\n",
            "Skipping case BraTS20_Validation_101 due to missing T1 or segmentation file.\n",
            "Skipping case BraTS20_Validation_005 due to missing T1 or segmentation file.\n",
            "Skipping case BraTS20_Validation_001 due to missing T1 or segmentation file.\n",
            "Skipping case BraTS20_Validation_025 due to missing T1 or segmentation file.\n",
            "Skipping case BraTS20_Validation_045 due to missing T1 or segmentation file.\n",
            "Skipping case BraTS20_Validation_103 due to missing T1 or segmentation file.\n",
            "Skipping case BraTS20_Validation_088 due to missing T1 or segmentation file.\n",
            "Skipping case BraTS20_Validation_058 due to missing T1 or segmentation file.\n",
            "Skipping case BraTS20_Validation_075 due to missing T1 or segmentation file.\n",
            "Skipping case BraTS20_Validation_122 due to missing T1 or segmentation file.\n",
            "Skipping case BraTS20_Validation_022 due to missing T1 or segmentation file.\n",
            "Skipping case BraTS20_Validation_078 due to missing T1 or segmentation file.\n",
            "Skipping case BraTS20_Validation_015 due to missing T1 or segmentation file.\n",
            "Skipping case BraTS20_Validation_099 due to missing T1 or segmentation file.\n",
            "Skipping case BraTS20_Validation_006 due to missing T1 or segmentation file.\n",
            "Skipping case BraTS20_Validation_100 due to missing T1 or segmentation file.\n",
            "Skipping case BraTS20_Validation_092 due to missing T1 or segmentation file.\n",
            "Skipping case BraTS20_Validation_029 due to missing T1 or segmentation file.\n",
            "Skipping case BraTS20_Validation_106 due to missing T1 or segmentation file.\n",
            "Skipping case BraTS20_Validation_054 due to missing T1 or segmentation file.\n",
            "Skipping case BraTS20_Validation_060 due to missing T1 or segmentation file.\n",
            "Skipping case BraTS20_Validation_023 due to missing T1 or segmentation file.\n",
            "Skipping case BraTS20_Validation_117 due to missing T1 or segmentation file.\n",
            "Skipping case BraTS20_Validation_070 due to missing T1 or segmentation file.\n",
            "Skipping case BraTS20_Validation_109 due to missing T1 or segmentation file.\n",
            "Skipping case BraTS20_Validation_111 due to missing T1 or segmentation file.\n",
            "Skipping case BraTS20_Validation_031 due to missing T1 or segmentation file.\n",
            "Skipping case BraTS20_Validation_116 due to missing T1 or segmentation file.\n",
            "Skipping case BraTS20_Validation_095 due to missing T1 or segmentation file.\n",
            "Skipping case BraTS20_Validation_013 due to missing T1 or segmentation file.\n",
            "Skipping case BraTS20_Validation_081 due to missing T1 or segmentation file.\n",
            "Skipping case BraTS20_Validation_082 due to missing T1 or segmentation file.\n",
            "Skipping case BraTS20_Validation_055 due to missing T1 or segmentation file.\n",
            "Skipping case BraTS20_Validation_042 due to missing T1 or segmentation file.\n",
            "Skipping case BraTS20_Validation_044 due to missing T1 or segmentation file.\n",
            "Skipping case BraTS20_Validation_108 due to missing T1 or segmentation file.\n",
            "Skipping case BraTS20_Validation_080 due to missing T1 or segmentation file.\n",
            "Skipping case BraTS20_Validation_021 due to missing T1 or segmentation file.\n",
            "Skipping case BraTS20_Validation_112 due to missing T1 or segmentation file.\n",
            "Skipping case BraTS20_Validation_087 due to missing T1 or segmentation file.\n",
            "Skipping case BraTS20_Validation_052 due to missing T1 or segmentation file.\n",
            "Skipping case BraTS20_Validation_119 due to missing T1 or segmentation file.\n",
            "Skipping case BraTS20_Validation_121 due to missing T1 or segmentation file.\n",
            "Skipping case BraTS20_Validation_061 due to missing T1 or segmentation file.\n",
            "Skipping case BraTS20_Validation_063 due to missing T1 or segmentation file.\n",
            "Skipping case BraTS20_Validation_079 due to missing T1 or segmentation file.\n",
            "Skipping case BraTS20_Validation_019 due to missing T1 or segmentation file.\n",
            "Skipping case BraTS20_Validation_038 due to missing T1 or segmentation file.\n",
            "Skipping case BraTS20_Validation_016 due to missing T1 or segmentation file.\n",
            "Skipping case BraTS20_Validation_026 due to missing T1 or segmentation file.\n",
            "Skipping case BraTS20_Validation_125 due to missing T1 or segmentation file.\n",
            "Skipping case BraTS20_Validation_089 due to missing T1 or segmentation file.\n",
            "Skipping case BraTS20_Validation_030 due to missing T1 or segmentation file.\n",
            "Skipping case BraTS20_Validation_010 due to missing T1 or segmentation file.\n",
            "Skipping case BraTS20_Validation_037 due to missing T1 or segmentation file.\n",
            "Skipping case BraTS20_Validation_115 due to missing T1 or segmentation file.\n",
            "Skipping case BraTS20_Validation_008 due to missing T1 or segmentation file.\n",
            "Skipping case BraTS20_Validation_085 due to missing T1 or segmentation file.\n",
            "Skipping case BraTS20_Validation_027 due to missing T1 or segmentation file.\n",
            "Skipping case BraTS20_Validation_124 due to missing T1 or segmentation file.\n",
            "Skipping case BraTS20_Validation_017 due to missing T1 or segmentation file.\n",
            "Skipping case BraTS20_Validation_118 due to missing T1 or segmentation file.\n",
            "Skipping case BraTS20_Validation_093 due to missing T1 or segmentation file.\n",
            "Skipping case BraTS20_Validation_076 due to missing T1 or segmentation file.\n",
            "Skipping case BraTS20_Validation_120 due to missing T1 or segmentation file.\n",
            "Skipping case BraTS20_Validation_032 due to missing T1 or segmentation file.\n",
            "Skipping case BraTS20_Validation_004 due to missing T1 or segmentation file.\n",
            "Skipping case BraTS20_Validation_009 due to missing T1 or segmentation file.\n",
            "Skipping case BraTS20_Validation_033 due to missing T1 or segmentation file.\n",
            "Skipping case BraTS20_Validation_084 due to missing T1 or segmentation file.\n",
            "Skipping case BraTS20_Validation_024 due to missing T1 or segmentation file.\n",
            "Skipping case BraTS20_Validation_051 due to missing T1 or segmentation file.\n",
            "Skipping case BraTS20_Validation_065 due to missing T1 or segmentation file.\n",
            "Skipping case BraTS20_Validation_034 due to missing T1 or segmentation file.\n",
            "Skipping case BraTS20_Validation_018 due to missing T1 or segmentation file.\n",
            "Skipping case BraTS20_Validation_035 due to missing T1 or segmentation file.\n",
            "Skipping case BraTS20_Validation_049 due to missing T1 or segmentation file.\n",
            "Skipping case BraTS20_Validation_014 due to missing T1 or segmentation file.\n",
            "Skipping case BraTS20_Validation_046 due to missing T1 or segmentation file.\n",
            "Skipping case BraTS20_Validation_012 due to missing T1 or segmentation file.\n",
            "Skipping case BraTS20_Validation_028 due to missing T1 or segmentation file.\n",
            "Skipping case BraTS20_Validation_020 due to missing T1 or segmentation file.\n",
            "Skipping case BraTS20_Validation_041 due to missing T1 or segmentation file.\n",
            "Skipping case BraTS20_Validation_039 due to missing T1 or segmentation file.\n",
            "Skipping case BraTS20_Validation_007 due to missing T1 or segmentation file.\n",
            "Skipping case BraTS20_Validation_097 due to missing T1 or segmentation file.\n",
            "Skipping case BraTS20_Validation_069 due to missing T1 or segmentation file.\n",
            "Skipping case BraTS20_Validation_043 due to missing T1 or segmentation file.\n",
            "Skipping case BraTS20_Validation_068 due to missing T1 or segmentation file.\n",
            "Skipping case BraTS20_Validation_062 due to missing T1 or segmentation file.\n",
            "Skipping case BraTS20_Validation_090 due to missing T1 or segmentation file.\n",
            "Skipping case BraTS20_Validation_096 due to missing T1 or segmentation file.\n",
            "Skipping case BraTS20_Validation_064 due to missing T1 or segmentation file.\n",
            "Skipping case BraTS20_Validation_091 due to missing T1 or segmentation file.\n",
            "Skipping case BraTS20_Validation_002 due to missing T1 or segmentation file.\n",
            "Skipping case BraTS20_Validation_098 due to missing T1 or segmentation file.\n",
            "Skipping case BraTS20_Validation_094 due to missing T1 or segmentation file.\n",
            "Skipping case BraTS20_Validation_074 due to missing T1 or segmentation file.\n",
            "Skipping case BraTS20_Validation_113 due to missing T1 or segmentation file.\n",
            "Skipping case BraTS20_Validation_071 due to missing T1 or segmentation file.\n",
            "✅ Total slices: train=8000, val=0\n",
            "⚡ Successfully loaded 8000 slices after skipping 125 incomplete cases.\n"
          ]
        },
        {
          "output_type": "stream",
          "name": "stderr",
          "text": [
            "\n"
          ]
        }
      ]
    },
    {
      "cell_type": "code",
      "source": [
        "# ============================\n",
        "# ✅ 4. LIMIT TO NUM_SLICES\n",
        "# ============================\n",
        "# The limiting is now done implicitly by not processing all slices in extract_slices\n",
        "# Keeping this cell but it won't perform any action as the limiting is handled above.\n",
        "# This is just for clarity in the notebook flow.\n",
        "pass"
      ],
      "metadata": {
        "id": "YgqrEz8o-owV"
      },
      "execution_count": 1,
      "outputs": []
    },
    {
      "cell_type": "code",
      "source": [
        "# ============================\n",
        "# ✅ 5. DATASET\n",
        "# ============================\n",
        "class BrainDataset(Dataset):\n",
        "    def __init__(self, imgs, masks):\n",
        "        self.imgs = imgs\n",
        "        self.masks = masks\n",
        "\n",
        "    def __len__(self):\n",
        "        return len(self.imgs)\n",
        "\n",
        "    def __getitem__(self, idx):\n",
        "        img = cv2.resize(self.imgs[idx], (IMG_SIZE, IMG_SIZE))\n",
        "        mask = cv2.resize(self.masks[idx], (IMG_SIZE, IMG_SIZE))\n",
        "\n",
        "        img = np.expand_dims(img, axis=0).astype(np.float32)\n",
        "        mask = np.expand_dims(mask, axis=0).astype(np.float32)\n",
        "        return torch.tensor(img), torch.tensor(mask)\n",
        "\n",
        "# Create datasets using the extracted slices, limiting train_imgs and train_masks to NUM_SLICES\n",
        "train_dataset = BrainDataset(train_imgs[:NUM_SLICES], train_masks[:NUM_SLICES])\n",
        "val_dataset = BrainDataset(val_imgs, val_masks)"
      ],
      "metadata": {
        "colab": {
          "base_uri": "https://localhost:8080/",
          "height": 211
        },
        "id": "q0V1Qgz1-oy6",
        "outputId": "635a22af-4b25-455a-d26e-b494889861cc"
      },
      "execution_count": 2,
      "outputs": [
        {
          "output_type": "error",
          "ename": "NameError",
          "evalue": "name 'Dataset' is not defined",
          "traceback": [
            "\u001b[0;31m---------------------------------------------------------------------------\u001b[0m",
            "\u001b[0;31mNameError\u001b[0m                                 Traceback (most recent call last)",
            "\u001b[0;32m/tmp/ipython-input-2-217811974.py\u001b[0m in \u001b[0;36m<cell line: 0>\u001b[0;34m()\u001b[0m\n\u001b[1;32m      2\u001b[0m \u001b[0;31m# ✅ 5. DATASET\u001b[0m\u001b[0;34m\u001b[0m\u001b[0;34m\u001b[0m\u001b[0m\n\u001b[1;32m      3\u001b[0m \u001b[0;31m# ============================\u001b[0m\u001b[0;34m\u001b[0m\u001b[0;34m\u001b[0m\u001b[0m\n\u001b[0;32m----> 4\u001b[0;31m \u001b[0;32mclass\u001b[0m \u001b[0mBrainDataset\u001b[0m\u001b[0;34m(\u001b[0m\u001b[0mDataset\u001b[0m\u001b[0;34m)\u001b[0m\u001b[0;34m:\u001b[0m\u001b[0;34m\u001b[0m\u001b[0;34m\u001b[0m\u001b[0m\n\u001b[0m\u001b[1;32m      5\u001b[0m     \u001b[0;32mdef\u001b[0m \u001b[0m__init__\u001b[0m\u001b[0;34m(\u001b[0m\u001b[0mself\u001b[0m\u001b[0;34m,\u001b[0m \u001b[0mimgs\u001b[0m\u001b[0;34m,\u001b[0m \u001b[0mmasks\u001b[0m\u001b[0;34m)\u001b[0m\u001b[0;34m:\u001b[0m\u001b[0;34m\u001b[0m\u001b[0;34m\u001b[0m\u001b[0m\n\u001b[1;32m      6\u001b[0m         \u001b[0mself\u001b[0m\u001b[0;34m.\u001b[0m\u001b[0mimgs\u001b[0m \u001b[0;34m=\u001b[0m \u001b[0mimgs\u001b[0m\u001b[0;34m\u001b[0m\u001b[0;34m\u001b[0m\u001b[0m\n",
            "\u001b[0;31mNameError\u001b[0m: name 'Dataset' is not defined"
          ]
        }
      ]
    },
    {
      "cell_type": "code",
      "source": [
        "# ============================\n",
        "# ✅ 6. TRAIN / VAL SPLIT\n",
        "# ============================\n",
        "# The data is already split into train and validation sets during slice extraction.\n",
        "# This cell will now just create the DataLoaders.\n",
        "\n",
        "train_loader = DataLoader(train_dataset, batch_size=BATCH_SIZE, shuffle=True)\n",
        "val_loader = DataLoader(val_dataset, batch_size=BATCH_SIZE)\n",
        "\n",
        "print(f\"✅ Dataset ready: {len(train_dataset)} train, {len(val_dataset)} val\")"
      ],
      "metadata": {
        "colab": {
          "base_uri": "https://localhost:8080/",
          "height": 211
        },
        "id": "MiKxcX8H-o10",
        "outputId": "a430f7f0-1eb7-4796-d9f3-b6bf843d50f4"
      },
      "execution_count": 3,
      "outputs": [
        {
          "output_type": "error",
          "ename": "NameError",
          "evalue": "name 'DataLoader' is not defined",
          "traceback": [
            "\u001b[0;31m---------------------------------------------------------------------------\u001b[0m",
            "\u001b[0;31mNameError\u001b[0m                                 Traceback (most recent call last)",
            "\u001b[0;32m/tmp/ipython-input-3-533122370.py\u001b[0m in \u001b[0;36m<cell line: 0>\u001b[0;34m()\u001b[0m\n\u001b[1;32m      5\u001b[0m \u001b[0;31m# This cell will now just create the DataLoaders.\u001b[0m\u001b[0;34m\u001b[0m\u001b[0;34m\u001b[0m\u001b[0m\n\u001b[1;32m      6\u001b[0m \u001b[0;34m\u001b[0m\u001b[0m\n\u001b[0;32m----> 7\u001b[0;31m \u001b[0mtrain_loader\u001b[0m \u001b[0;34m=\u001b[0m \u001b[0mDataLoader\u001b[0m\u001b[0;34m(\u001b[0m\u001b[0mtrain_dataset\u001b[0m\u001b[0;34m,\u001b[0m \u001b[0mbatch_size\u001b[0m\u001b[0;34m=\u001b[0m\u001b[0mBATCH_SIZE\u001b[0m\u001b[0;34m,\u001b[0m \u001b[0mshuffle\u001b[0m\u001b[0;34m=\u001b[0m\u001b[0;32mTrue\u001b[0m\u001b[0;34m)\u001b[0m\u001b[0;34m\u001b[0m\u001b[0;34m\u001b[0m\u001b[0m\n\u001b[0m\u001b[1;32m      8\u001b[0m \u001b[0mval_loader\u001b[0m \u001b[0;34m=\u001b[0m \u001b[0mDataLoader\u001b[0m\u001b[0;34m(\u001b[0m\u001b[0mval_dataset\u001b[0m\u001b[0;34m,\u001b[0m \u001b[0mbatch_size\u001b[0m\u001b[0;34m=\u001b[0m\u001b[0mBATCH_SIZE\u001b[0m\u001b[0;34m)\u001b[0m\u001b[0;34m\u001b[0m\u001b[0;34m\u001b[0m\u001b[0m\n\u001b[1;32m      9\u001b[0m \u001b[0;34m\u001b[0m\u001b[0m\n",
            "\u001b[0;31mNameError\u001b[0m: name 'DataLoader' is not defined"
          ]
        }
      ]
    },
    {
      "cell_type": "code",
      "source": [
        "# ============================\n",
        "# ✅ 7. MODEL - HEAVY UNET++\n",
        "# ============================\n",
        "class DoubleConv(nn.Module):\n",
        "    def __init__(self, in_c, out_c):\n",
        "        super().__init__()\n",
        "        self.net = nn.Sequential(\n",
        "            nn.Conv2d(in_c, out_c, 3, padding=1), nn.ReLU(),\n",
        "            nn.Conv2d(out_c, out_c, 3, padding=1), nn.ReLU()\n",
        "        )\n",
        "    def forward(self, x): return self.net(x)\n",
        "\n",
        "class UNetPlusPlus(nn.Module):\n",
        "    def __init__(self):\n",
        "        super().__init__()\n",
        "        self.enc1 = DoubleConv(1, 64)\n",
        "        self.enc2 = DoubleConv(64, 128)\n",
        "        self.enc3 = DoubleConv(128, 256)\n",
        "        self.enc4 = DoubleConv(256, 512)\n",
        "        self.pool = nn.MaxPool2d(2)\n",
        "        self.bottleneck = DoubleConv(512, 1024)\n",
        "        self.up4 = nn.ConvTranspose2d(1024, 512, 2, stride=2)\n",
        "        self.dec4 = DoubleConv(1024, 512)\n",
        "        self.up3 = nn.ConvTranspose2d(512, 256, 2, stride=2)\n",
        "        self.dec3 = DoubleConv(512, 256)\n",
        "        self.up2 = nn.ConvTranspose2d(256, 128, 2, stride=2)\n",
        "        self.dec2 = DoubleConv(256, 128)\n",
        "        self.up1 = nn.ConvTranspose2d(128, 64, 2, stride=2)\n",
        "        self.dec1 = DoubleConv(128, 64)\n",
        "        self.final = nn.Conv2d(64, 1, 1)\n",
        "\n",
        "    def forward(self, x):\n",
        "        e1 = self.enc1(x)\n",
        "        e2 = self.enc2(self.pool(e1))\n",
        "        e3 = self.enc3(self.pool(e2))\n",
        "        e4 = self.enc4(self.pool(e3))\n",
        "        b = self.bottleneck(self.pool(e4))\n",
        "        d4 = self.dec4(torch.cat([self.up4(b), e4], 1))\n",
        "        d3 = self.dec3(torch.cat([self.up3(d4), e3], 1))\n",
        "        d2 = self.dec2(torch.cat([self.up2(d3), e2], 1))\n",
        "        d1 = self.dec1(torch.cat([self.up1(d2), e1], 1))\n",
        "        return torch.sigmoid(self.final(d1))\n",
        "\n",
        "model = UNetPlusPlus().to(device)\n",
        "optimizer = torch.optim.Adam(model.parameters(), lr=1e-4)\n",
        "\n",
        "def dice_loss(pred, target, smooth=1):\n",
        "    pred, target = pred.view(-1), target.view(-1)\n",
        "    intersection = (pred*target).sum()\n",
        "    return 1 - ((2.*intersection+smooth)/(pred.sum()+target.sum()+smooth)"
      ],
      "metadata": {
        "id": "RWzqQLsq-o4g"
      },
      "execution_count": null,
      "outputs": []
    },
    {
      "cell_type": "code",
      "source": [
        "# ============================\n",
        "# ✅ 8. TRAINING LOOP\n",
        "# ============================\n",
        "train_losses, val_losses, dice_scores = [], [], []\n",
        "\n",
        "for epoch in range(EPOCHS):\n",
        "    model.train()\n",
        "    total_loss, total_dice = 0, 0\n",
        "    for img, mask in tqdm(train_loader, desc=f\"Train Epoch {epoch+1}\"):\n",
        "        img, mask = img.to(device), mask.to(device)\n",
        "        pred = model(img)\n",
        "        bce = F.binary_cross_entropy(pred, mask)\n",
        "        dloss = dice_loss(pred, mask)\n",
        "        loss = bce + dloss\n",
        "        optimizer.zero_grad()\n",
        "        loss.backward()\n",
        "        optimizer.step()\n",
        "        total_loss += bce.item()\n",
        "        total_dice += dloss.item()\n",
        "\n",
        "    avg_loss = total_loss / len(train_loader)\n",
        "    avg_dice = total_dice / len(train_loader)\n",
        "    train_losses.append(avg_loss)\n",
        "    dice_scores.append(1 - avg_dice)\n",
        "\n",
        "    # validation\n",
        "    model.eval()\n",
        "    val_loss = 0\n",
        "    with torch.no_grad():\n",
        "        for img, mask in val_loader:\n",
        "            img, mask = img.to(device), mask.to(device)\n",
        "            pred = model(img)\n",
        "            bce = F.binary_cross_entropy(pred, mask)\n",
        "            dloss = dice_loss(pred, mask)\n",
        "            val_loss += (bce + dloss).item()\n",
        "    val_losses.append(val_loss / len(val_loader))\n",
        "\n",
        "    print(f\"✅ Epoch {epoch+1}: Train Loss={avg_loss:.4f}, Dice Score={1-avg_dice:.4f}, Val Loss={val_losses[-1]:.4f}\")\n"
      ],
      "metadata": {
        "id": "rdyJEPC9-o7K"
      },
      "execution_count": null,
      "outputs": []
    },
    {
      "cell_type": "code",
      "source": [
        "# ============================\n",
        "# ✅ 9. PLOTS\n",
        "# ============================\n",
        "plt.figure(figsize=(12,5))\n",
        "plt.subplot(1,2,1)\n",
        "plt.plot(train_losses, label=\"Train BCE\")\n",
        "plt.plot(val_losses, label=\"Val Loss\")\n",
        "plt.xlabel(\"Epoch\"), plt.ylabel(\"Loss\"), plt.legend(), plt.title(\"Loss vs Epoch\")\n",
        "\n",
        "plt.subplot(1,2,2)\n",
        "plt.plot(dice_scores, label=\"Dice Score\")\n",
        "plt.xlabel(\"Epoch\"), plt.ylabel(\"Dice\"), plt.legend(), plt.title(\"Dice vs Epoch\")\n",
        "plt.show()\n"
      ],
      "metadata": {
        "id": "E0jSM1a4-pAS"
      },
      "execution_count": null,
      "outputs": []
    },
    {
      "cell_type": "code",
      "source": [
        "# ============================\n",
        "# ✅ 10. SAMPLE PREDICTIONS\n",
        "# ============================\n",
        "model.eval()\n",
        "img, mask = next(iter(val_loader))\n",
        "img, mask = img.to(device), mask.to(device)\n",
        "with torch.no_grad():\n",
        "    pred = model(img)\n",
        "for i in range(3):\n",
        "    plt.figure(figsize=(12,4))\n",
        "    plt.subplot(1,3,1); plt.imshow(img[i,0].cpu(), cmap='gray'); plt.title(\"Image\")\n",
        "    plt.subplot(1,3,2); plt.imshow(mask[i,0].cpu(), cmap='gray'); plt.title(\"Mask\")\n",
        "    plt.subplot(1,3,3); plt.imshow(pred[i,0].cpu(), cmap='gray'); plt.title(\"Prediction\")\n",
        "    plt.show()"
      ],
      "metadata": {
        "id": "Sr2qsqAd-pDU"
      },
      "execution_count": null,
      "outputs": []
    },
    {
      "cell_type": "code",
      "source": [
        "# ============================\n",
        "# ✅ 11. SAVE MODEL\n",
        "# ============================\n",
        "torch.save(model.state_dict(), \"/content/brain_model.pth\")\n",
        "print(\"✅ Model saved as brain_model.pth\")"
      ],
      "metadata": {
        "id": "S0AyE8P4-pGG"
      },
      "execution_count": null,
      "outputs": []
    },
    {
      "cell_type": "code",
      "source": [],
      "metadata": {
        "id": "VuFCRh47Drwg"
      },
      "execution_count": null,
      "outputs": []
    },
    {
      "cell_type": "code",
      "source": [],
      "metadata": {
        "id": "rylDca5gDrzp"
      },
      "execution_count": null,
      "outputs": []
    },
    {
      "cell_type": "code",
      "source": [
        "import os\n",
        "import numpy as np\n",
        "import torch\n",
        "import torch.nn as nn\n",
        "import torch.nn.functional as F\n",
        "from torch.utils.data import Dataset, DataLoader, random_split\n",
        "import cv2\n",
        "from glob import glob\n",
        "import matplotlib.pyplot as plt\n",
        "from tqdm import tqdm\n",
        "import nibabel as nib\n",
        "\n",
        "# ✅ GPU\n",
        "device = torch.device(\"cuda\" if torch.cuda.is_available() else \"cpu\")\n",
        "print(\"🚀 Using device:\", device)\n",
        "\n",
        "# ---------------------------------\n",
        "# ⚙️ Parameters\n",
        "# ---------------------------------\n",
        "BATCH_SIZE = 16\n",
        "EPOCHS = 20\n",
        "IMAGE_SIZE = 128\n",
        "NUM_SLICES = 8000 # Cap on slices\n",
        "\n",
        "# -----------------------\n",
        "# 🔍 Load dataset paths\n",
        "# -----------------------\n",
        "DATA_DIR = \"/content/BraTS2020_TrainingData/MICCAI_BraTS2020_TrainingData\"  # your unzipped path\n",
        "\n",
        "\n",
        "def load_nii(path):\n",
        "    img = nib.load(path)\n",
        "    data = img.get_fdata()\n",
        "    return np.transpose(data, (1,0,2))  # make orientation consistent\n",
        "\n",
        "def extract_slices(image_dir, max_slices=None):\n",
        "    imgs, masks = [], []\n",
        "    skipped_cases = 0\n",
        "    for case in tqdm(os.listdir(image_dir), desc=f\"Extracting slices from {image_dir}\"):\n",
        "        if max_slices is not None and len(imgs) >= max_slices:\n",
        "            break  # Stop extracting if we've reached the limit\n",
        "\n",
        "        case_path = os.path.join(image_dir, case)\n",
        "        if not os.path.isdir(case_path):\n",
        "            continue\n",
        "\n",
        "        t1_file = None\n",
        "        seg_file = None\n",
        "        for f in os.listdir(case_path):\n",
        "            if \"_t1.nii\" in f:\n",
        "                t1_file = f\n",
        "            elif \"_seg.nii\" in f:\n",
        "                seg_file = f\n",
        "\n",
        "        if t1_file is None or seg_file is None:\n",
        "            print(f\"Skipping case {case} due to missing T1 or segmentation file.\")\n",
        "            skipped_cases += 1\n",
        "            continue\n",
        "\n",
        "        try:\n",
        "            img = load_nii(os.path.join(case_path, t1_file))\n",
        "            mask = load_nii(os.path.join(case_path, seg_file))\n",
        "            img = (img - np.min(img)) / (np.max(img) - np.min(img))\n",
        "\n",
        "            for i in range(img.shape[2]):\n",
        "                if max_slices is not None and len(imgs) >= max_slices:\n",
        "                    break # Stop adding slices if we've reached the limit\n",
        "\n",
        "                slice_img = img[:,:,i]\n",
        "                slice_mask = (mask[:,:,i] > 0).astype(np.float32)\n",
        "                if np.sum(slice_mask) > 0:\n",
        "                    imgs.append(slice_img)\n",
        "                    masks.append(slice_mask)\n",
        "        except Exception as e:\n",
        "            print(f\"Error processing case {case}: {e}\")\n",
        "            skipped_cases += 1\n",
        "            continue\n",
        "\n",
        "    return imgs, masks, skipped_cases\n",
        "\n",
        "all_imgs, all_masks, skipped_cases = extract_slices(DATA_DIR, max_slices=NUM_SLICES)\n",
        "\n",
        "print(f\"✅ Total slices extracted: {len(all_imgs)}\")\n",
        "print(f\"⚡ Successfully loaded {len(all_imgs)} slices after skipping {skipped_cases} incomplete cases.\")\n",
        "\n",
        "\n",
        "# --------------------------\n",
        "# 📦 Dataset class\n",
        "# --------------------------\n",
        "class BrainDataset(Dataset):\n",
        "    def __init__(self, imgs, masks):\n",
        "        self.imgs = imgs\n",
        "        self.masks = masks\n",
        "\n",
        "    def __len__(self):\n",
        "        return len(self.imgs)\n",
        "\n",
        "    def __getitem__(self, idx):\n",
        "        img = cv2.resize(self.imgs[idx], (IMAGE_SIZE, IMAGE_SIZE))\n",
        "        mask = cv2.resize(self.masks[idx], (IMAGE_SIZE, IMAGE_SIZE))\n",
        "\n",
        "        img = np.expand_dims(img, axis=0).astype(np.float32)\n",
        "        mask = np.expand_dims(mask, axis=0).astype(np.float32)\n",
        "        return torch.tensor(img), torch.tensor(mask)\n",
        "\n",
        "# ✅ Create combined dataset\n",
        "full_dataset = BrainDataset(all_imgs, all_masks)\n",
        "\n",
        "\n",
        "# -------------------------\n",
        "# ✂️ Split 90-10\n",
        "# -------------------------\n",
        "train_size = int(0.9 * len(full_dataset))\n",
        "val_size = len(full_dataset) - train_size\n",
        "train_dataset, val_dataset = random_split(full_dataset, [train_size, val_size])\n",
        "\n",
        "\n",
        "# --------------------------\n",
        "# 📊 DataLoaders\n",
        "# --------------------------\n",
        "train_loader = DataLoader(train_dataset, batch_size=BATCH_SIZE, shuffle=True)\n",
        "val_loader = DataLoader(val_dataset, batch_size=BATCH_SIZE)\n",
        "\n",
        "print(f\"✅ Dataset ready: {len(train_dataset)} train, {len(val_dataset)} val\")\n",
        "\n",
        "\n",
        "# ------------------------------\n",
        "# 🧩 U-Net++ Model\n",
        "# ------------------------------\n",
        "class ConvBlock(nn.Module):\n",
        "    def __init__(self, in_ch, out_ch):\n",
        "        super(ConvBlock, self).__init__()\n",
        "        self.conv = nn.Sequential(\n",
        "            nn.Conv2d(in_ch, out_ch, 3, padding=1),\n",
        "            nn.BatchNorm2d(out_ch),\n",
        "            nn.ReLU(inplace=True),\n",
        "            nn.Conv2d(out_ch, out_ch, 3, padding=1),\n",
        "            nn.BatchNorm2d(out_ch),\n",
        "            nn.ReLU(inplace=True),\n",
        "        )\n",
        "\n",
        "    def forward(self, x):\n",
        "        return self.conv(x)\n",
        "\n",
        "class UNetPlusPlus(nn.Module):\n",
        "    def __init__(self):\n",
        "        super(UNetPlusPlus, self).__init__()\n",
        "        self.enc1 = ConvBlock(1, 32)\n",
        "        self.enc2 = ConvBlock(32, 64)\n",
        "        self.enc3 = ConvBlock(64, 128)\n",
        "        self.pool = nn.MaxPool2d(2)\n",
        "        self.bridge = ConvBlock(128, 256)\n",
        "        self.up2 = nn.ConvTranspose2d(256, 128, 2, stride=2)\n",
        "        self.dec2 = ConvBlock(256, 128)\n",
        "        self.up1 = nn.ConvTranspose2d(128, 64, 2, stride=2)\n",
        "        self.dec1 = ConvBlock(128, 64)\n",
        "        self.up0 = nn.ConvTranspose2d(64, 32, 2, stride=2)\n",
        "        self.dec0 = ConvBlock(64, 32)\n",
        "        self.final = nn.Conv2d(32, 1, 1)\n",
        "\n",
        "    def forward(self, x):\n",
        "        e1 = self.enc1(x)\n",
        "        e2 = self.enc2(self.pool(e1))\n",
        "        e3 = self.enc3(self.pool(e2))\n",
        "        b = self.bridge(self.pool(e3))\n",
        "        d2 = self.dec2(torch.cat([self.up2(b), e3], dim=1))\n",
        "        d1 = self.dec1(torch.cat([self.up1(d2), e2], dim=1))\n",
        "        d0 = self.dec0(torch.cat([self.up0(d1), e1], dim=1))\n",
        "        return torch.sigmoid(self.final(d0))\n",
        "\n",
        "model = UNetPlusPlus().to(device)\n",
        "optimizer = torch.optim.Adam(model.parameters(), lr=1e-4)\n",
        "\n",
        "# 🩸 Dice Loss\n",
        "def dice_loss(pred, target, smooth=1):\n",
        "    pred = pred.view(-1)\n",
        "    target = target.view(-1)\n",
        "    intersection = (pred * target).sum()\n",
        "    return 1 - ((2. * intersection + smooth) / (pred.sum() + target.sum() + smooth))\n",
        "\n",
        "# ----------------------------\n",
        "# 🚀 Training\n",
        "# ----------------------------\n",
        "train_losses, val_losses = [], []\n",
        "dice_scores, val_dices = [], []\n",
        "\n",
        "for epoch in range(EPOCHS):\n",
        "    model.train()\n",
        "    total_loss, total_dice = 0, 0\n",
        "    for img, mask in tqdm(train_loader, desc=f\"Epoch {epoch+1}\"):\n",
        "        img, mask = img.to(device), mask.to(device)\n",
        "        pred = model(img)\n",
        "        bce = F.binary_cross_entropy(pred, mask)\n",
        "        dloss = dice_loss(pred, mask)\n",
        "        loss = bce + dloss\n",
        "        optimizer.zero_grad()\n",
        "        loss.backward()\n",
        "        optimizer.step()\n",
        "        total_loss += bce.item()\n",
        "        total_dice += 1 - dloss.item()\n",
        "    avg_loss = total_loss / len(train_loader)\n",
        "    avg_dice = total_dice / len(train_loader)\n",
        "    train_losses.append(avg_loss)\n",
        "    dice_scores.append(avg_dice)\n",
        "\n",
        "    # Validation\n",
        "    model.eval()\n",
        "    v_loss, v_dice = 0, 0\n",
        "    with torch.no_grad():\n",
        "        for img, mask in val_loader:\n",
        "            img, mask = img.to(device), mask.to(device)\n",
        "            pred = model(img)\n",
        "            bce = F.binary_cross_entropy(pred, mask)\n",
        "            dloss = dice_loss(pred, mask)\n",
        "            v_loss += bce.item()\n",
        "            v_dice += 1 - dloss.item()\n",
        "    val_losses.append(v_loss / len(val_loader))\n",
        "    val_dices.append(v_dice / len(val_loader))\n",
        "\n",
        "    print(f\"✅ Epoch {epoch+1}: Train BCE={avg_loss:.4f}, Dice={avg_dice:.4f}, Val BCE={val_losses[-1]:.4f}, Val Dice={val_dices[-1]:.4f}\")\n",
        "\n",
        "# -----------------------------\n",
        "# 📊 Plots\n",
        "# -----------------------------\n",
        "plt.figure(figsize=(12,5))\n",
        "plt.plot(train_losses, label=\"Train BCE\")\n",
        "plt.plot(val_losses, label=\"Val BCE\")\n",
        "plt.title(\"Loss per Epoch\")\n",
        "plt.legend(); plt.show()\n",
        "\n",
        "plt.figure(figsize=(12,5))\n",
        "plt.plot(dice_scores, label=\"Train Dice\")\n",
        "plt.plot(val_dices, label=\"Val Dice\")\n",
        "plt.title(\"Dice Coefficient per Epoch\")\n",
        "plt.legend(); plt.show()\n",
        "\n",
        "# ---------------------------------\n",
        "# 💾 Save model\n",
        "# ---------------------------------\n",
        "torch.save(model.state_dict(), \"/content/brain_model.pth\")\n",
        "print(\"✅ Model saved at /content/brain_model.pth\")"
      ],
      "metadata": {
        "colab": {
          "base_uri": "https://localhost:8080/",
          "height": 1000
        },
        "id": "1UooSo1aDr2c",
        "outputId": "18814b5c-93a1-412a-de23-5c4db63dd9f2"
      },
      "execution_count": 1,
      "outputs": [
        {
          "output_type": "stream",
          "name": "stdout",
          "text": [
            "🚀 Using device: cuda\n"
          ]
        },
        {
          "output_type": "stream",
          "name": "stderr",
          "text": [
            "Extracting slices from /content/BraTS2020_TrainingData/MICCAI_BraTS2020_TrainingData:  33%|███▎      | 122/371 [00:35<01:11,  3.47it/s]\n"
          ]
        },
        {
          "output_type": "stream",
          "name": "stdout",
          "text": [
            "✅ Total slices extracted: 8000\n",
            "⚡ Successfully loaded 8000 slices after skipping 0 incomplete cases.\n",
            "✅ Dataset ready: 7200 train, 800 val\n"
          ]
        },
        {
          "output_type": "stream",
          "name": "stderr",
          "text": [
            "Epoch 1: 100%|██████████| 450/450 [00:34<00:00, 12.96it/s]\n"
          ]
        },
        {
          "output_type": "stream",
          "name": "stdout",
          "text": [
            "✅ Epoch 1: Train BCE=0.3626, Dice=0.1156, Val BCE=0.2501, Val Dice=0.1461\n"
          ]
        },
        {
          "output_type": "stream",
          "name": "stderr",
          "text": [
            "Epoch 2: 100%|██████████| 450/450 [00:33<00:00, 13.36it/s]\n"
          ]
        },
        {
          "output_type": "stream",
          "name": "stdout",
          "text": [
            "✅ Epoch 2: Train BCE=0.2057, Dice=0.2007, Val BCE=0.1693, Val Dice=0.2356\n"
          ]
        },
        {
          "output_type": "stream",
          "name": "stderr",
          "text": [
            "Epoch 3: 100%|██████████| 450/450 [00:34<00:00, 13.15it/s]\n"
          ]
        },
        {
          "output_type": "stream",
          "name": "stdout",
          "text": [
            "✅ Epoch 3: Train BCE=0.1223, Dice=0.3097, Val BCE=0.1004, Val Dice=0.3603\n"
          ]
        },
        {
          "output_type": "stream",
          "name": "stderr",
          "text": [
            "Epoch 4: 100%|██████████| 450/450 [00:34<00:00, 13.17it/s]\n"
          ]
        },
        {
          "output_type": "stream",
          "name": "stdout",
          "text": [
            "✅ Epoch 4: Train BCE=0.0713, Dice=0.4576, Val BCE=0.0533, Val Dice=0.4863\n"
          ]
        },
        {
          "output_type": "stream",
          "name": "stderr",
          "text": [
            "Epoch 5: 100%|██████████| 450/450 [00:34<00:00, 13.21it/s]\n"
          ]
        },
        {
          "output_type": "stream",
          "name": "stdout",
          "text": [
            "✅ Epoch 5: Train BCE=0.0449, Dice=0.6099, Val BCE=0.0368, Val Dice=0.6591\n"
          ]
        },
        {
          "output_type": "stream",
          "name": "stderr",
          "text": [
            "Epoch 6: 100%|██████████| 450/450 [00:34<00:00, 13.19it/s]\n"
          ]
        },
        {
          "output_type": "stream",
          "name": "stdout",
          "text": [
            "✅ Epoch 6: Train BCE=0.0314, Dice=0.7354, Val BCE=0.0324, Val Dice=0.7503\n"
          ]
        },
        {
          "output_type": "stream",
          "name": "stderr",
          "text": [
            "Epoch 7: 100%|██████████| 450/450 [00:34<00:00, 13.17it/s]\n"
          ]
        },
        {
          "output_type": "stream",
          "name": "stdout",
          "text": [
            "✅ Epoch 7: Train BCE=0.0255, Dice=0.8035, Val BCE=0.0270, Val Dice=0.8058\n"
          ]
        },
        {
          "output_type": "stream",
          "name": "stderr",
          "text": [
            "Epoch 8: 100%|██████████| 450/450 [00:34<00:00, 13.22it/s]\n"
          ]
        },
        {
          "output_type": "stream",
          "name": "stdout",
          "text": [
            "✅ Epoch 8: Train BCE=0.0217, Dice=0.8440, Val BCE=0.0229, Val Dice=0.8366\n"
          ]
        },
        {
          "output_type": "stream",
          "name": "stderr",
          "text": [
            "Epoch 9: 100%|██████████| 450/450 [00:34<00:00, 13.23it/s]\n"
          ]
        },
        {
          "output_type": "stream",
          "name": "stdout",
          "text": [
            "✅ Epoch 9: Train BCE=0.0194, Dice=0.8702, Val BCE=0.0207, Val Dice=0.8659\n"
          ]
        },
        {
          "output_type": "stream",
          "name": "stderr",
          "text": [
            "Epoch 10: 100%|██████████| 450/450 [00:34<00:00, 13.20it/s]\n"
          ]
        },
        {
          "output_type": "stream",
          "name": "stdout",
          "text": [
            "✅ Epoch 10: Train BCE=0.0179, Dice=0.8868, Val BCE=0.0200, Val Dice=0.8750\n"
          ]
        },
        {
          "output_type": "stream",
          "name": "stderr",
          "text": [
            "Epoch 11: 100%|██████████| 450/450 [00:34<00:00, 13.18it/s]\n"
          ]
        },
        {
          "output_type": "stream",
          "name": "stdout",
          "text": [
            "✅ Epoch 11: Train BCE=0.0170, Dice=0.8974, Val BCE=0.0190, Val Dice=0.8845\n"
          ]
        },
        {
          "output_type": "stream",
          "name": "stderr",
          "text": [
            "Epoch 12: 100%|██████████| 450/450 [00:34<00:00, 13.22it/s]\n"
          ]
        },
        {
          "output_type": "stream",
          "name": "stdout",
          "text": [
            "✅ Epoch 12: Train BCE=0.0160, Dice=0.9067, Val BCE=0.0183, Val Dice=0.8948\n"
          ]
        },
        {
          "output_type": "stream",
          "name": "stderr",
          "text": [
            "Epoch 13: 100%|██████████| 450/450 [00:34<00:00, 13.17it/s]\n"
          ]
        },
        {
          "output_type": "stream",
          "name": "stdout",
          "text": [
            "✅ Epoch 13: Train BCE=0.0152, Dice=0.9140, Val BCE=0.0181, Val Dice=0.8950\n"
          ]
        },
        {
          "output_type": "stream",
          "name": "stderr",
          "text": [
            "Epoch 14: 100%|██████████| 450/450 [00:34<00:00, 13.13it/s]\n"
          ]
        },
        {
          "output_type": "stream",
          "name": "stdout",
          "text": [
            "✅ Epoch 14: Train BCE=0.0144, Dice=0.9204, Val BCE=0.0171, Val Dice=0.9033\n"
          ]
        },
        {
          "output_type": "stream",
          "name": "stderr",
          "text": [
            "Epoch 15: 100%|██████████| 450/450 [00:33<00:00, 13.24it/s]\n"
          ]
        },
        {
          "output_type": "stream",
          "name": "stdout",
          "text": [
            "✅ Epoch 15: Train BCE=0.0140, Dice=0.9238, Val BCE=0.0184, Val Dice=0.9011\n"
          ]
        },
        {
          "output_type": "stream",
          "name": "stderr",
          "text": [
            "Epoch 16: 100%|██████████| 450/450 [00:34<00:00, 13.17it/s]\n"
          ]
        },
        {
          "output_type": "stream",
          "name": "stdout",
          "text": [
            "✅ Epoch 16: Train BCE=0.0133, Dice=0.9283, Val BCE=0.0149, Val Dice=0.9149\n"
          ]
        },
        {
          "output_type": "stream",
          "name": "stderr",
          "text": [
            "Epoch 17: 100%|██████████| 450/450 [00:34<00:00, 13.17it/s]\n"
          ]
        },
        {
          "output_type": "stream",
          "name": "stdout",
          "text": [
            "✅ Epoch 17: Train BCE=0.0129, Dice=0.9313, Val BCE=0.0172, Val Dice=0.9085\n"
          ]
        },
        {
          "output_type": "stream",
          "name": "stderr",
          "text": [
            "Epoch 18: 100%|██████████| 450/450 [00:34<00:00, 13.23it/s]\n"
          ]
        },
        {
          "output_type": "stream",
          "name": "stdout",
          "text": [
            "✅ Epoch 18: Train BCE=0.0127, Dice=0.9331, Val BCE=0.0155, Val Dice=0.9170\n"
          ]
        },
        {
          "output_type": "stream",
          "name": "stderr",
          "text": [
            "Epoch 19: 100%|██████████| 450/450 [00:34<00:00, 13.15it/s]\n"
          ]
        },
        {
          "output_type": "stream",
          "name": "stdout",
          "text": [
            "✅ Epoch 19: Train BCE=0.0126, Dice=0.9346, Val BCE=0.0178, Val Dice=0.9026\n"
          ]
        },
        {
          "output_type": "stream",
          "name": "stderr",
          "text": [
            "Epoch 20: 100%|██████████| 450/450 [00:34<00:00, 13.19it/s]\n"
          ]
        },
        {
          "output_type": "stream",
          "name": "stdout",
          "text": [
            "✅ Epoch 20: Train BCE=0.0122, Dice=0.9367, Val BCE=0.0145, Val Dice=0.9207\n"
          ]
        },
        {
          "output_type": "display_data",
          "data": {
            "text/plain": [
              "<Figure size 1200x500 with 1 Axes>"
            ],
            "image/png": "[encoded data removed]"
          },
          "metadata": {}
        },
        {
          "output_type": "display_data",
          "data": {
            "text/plain": [
              "<Figure size 1200x500 with 1 Axes>"
            ],
            "image/png": "[encoded data removed]"
          },
          "metadata": {}
        },
        {
          "output_type": "stream",
          "name": "stdout",
          "text": [
            "✅ Model saved at /content/brain_model.pth\n"
          ]
        }
      ]
    },
    {
      "cell_type": "code",
      "source": [
        "# prompt: also delete this file for more space/content/BraTS2020_ValidationData\n",
        "\n",
        "!rm -r /content/BraTS2020_ValidationData"
      ],
      "metadata": {
        "id": "OZEmvMXFDr5N"
      },
      "execution_count": 2,
      "outputs": []
    },
    {
      "cell_type": "code",
      "source": [
        "# prompt: give plotting of img with labels of prediction and other\n",
        "\n",
        "import matplotlib.pyplot as plt\n",
        "plt.figure(figsize=(15,5))\n",
        "for i in range(4):\n",
        "    plt.subplot(3,4,i+1)\n",
        "    plt.imshow(img[i][0].cpu().numpy(), cmap='gray')\n",
        "    plt.title(\"Image\")\n",
        "    plt.axis('off')\n",
        "\n",
        "    plt.subplot(3,4,i+5)\n",
        "    plt.imshow(mask[i][0].cpu().numpy(), cmap='gray')\n",
        "    plt.title(\"True Mask\")\n",
        "    plt.axis('off')\n",
        "\n",
        "    plt.subplot(3,4,i+9)\n",
        "    plt.imshow(pred[i][0].cpu().numpy(), cmap='gray')\n",
        "    plt.title(\"Prediction\")\n",
        "    plt.axis('off')\n",
        "\n",
        "plt.tight_layout()\n",
        "plt.show()"
      ],
      "metadata": {
        "colab": {
          "base_uri": "https://localhost:8080/",
          "height": 507
        },
        "id": "crYfsIUxDr74",
        "outputId": "b3237d68-3d6d-4776-95f6-38cc2c3a92b7"
      },
      "execution_count": 4,
      "outputs": [
        {
          "output_type": "display_data",
          "data": {
            "text/plain": [
              "<Figure size 1500x500 with 12 Axes>"
            ],
            "image/png": "[encoded data removed]"
          },
          "metadata": {}
        }
      ]
    },
    {
      "cell_type": "code",
      "source": [],
      "metadata": {
        "id": "TB2WSvKHDr-X"
      },
      "execution_count": null,
      "outputs": []
    },
    {
      "cell_type": "code",
      "source": [],
      "metadata": {
        "id": "NTBRJCKDDsBB"
      },
      "execution_count": null,
      "outputs": []
    },
    {
      "cell_type": "code",
      "source": [],
      "metadata": {
        "id": "kQ9HY802DsDp"
      },
      "execution_count": null,
      "outputs": []
    },
    {
      "cell_type": "code",
      "source": [],
      "metadata": {
        "id": "AS2GVqjWDsGC"
      },
      "execution_count": null,
      "outputs": []
    },
    {
      "cell_type": "code",
      "source": [],
      "metadata": {
        "id": "9UVdAs7oDsI_"
      },
      "execution_count": null,
      "outputs": []
    },
    {
      "cell_type": "code",
      "source": [],
      "metadata": {
        "id": "xKLrEQtuDsLz"
      },
      "execution_count": null,
      "outputs": []
    }
  ]
}